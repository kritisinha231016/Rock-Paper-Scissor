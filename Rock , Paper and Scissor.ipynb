{
 "cells": [
  {
   "cell_type": "code",
   "execution_count": 1,
   "id": "26eb9e14",
   "metadata": {},
   "outputs": [
    {
     "name": "stdout",
     "output_type": "stream",
     "text": [
      "'Rock'-'Paper'-'Scissor'\n",
      "Enter \"Rock\" or \"Paper\" or \"Scissor\":- Scissor\n",
      "\n",
      "User choice= Scissor\n",
      "Computer choice= Paper\n",
      "User won the match!\n"
     ]
    }
   ],
   "source": [
    "import numpy as np\n",
    "print(\"'Rock'-'Paper'-'Scissor'\")\n",
    "user_choice=input('Enter \"Rock\" or \"Paper\" or \"Scissor\":- ')\n",
    "computer_choice=np.random.randint(3)\n",
    "if(computer_choice==0):\n",
    "    computer_choice='Rock'\n",
    "elif(computer_choice==1):\n",
    "    computer_choice='Paper'\n",
    "else:\n",
    "    computer_choce='Scissor'\n",
    "print()\n",
    "print(f'User choice= {user_choice}')\n",
    "print(f'Computer choice= {computer_choice}')\n",
    "if(user_choice=='Rock' and computer_choice=='Rock'):\n",
    "    print('Oops!Its a tie.')\n",
    "elif(user_choice=='Rock' and computer_choice=='Paper'):\n",
    "    print('Computer won the match!')\n",
    "elif(user_choice=='Rock' and computer_choice=='Scissor'):\n",
    "    print('User won the match!')\n",
    "elif(user_choice=='Paper' and computer_choice=='Rock'):\n",
    "    print('User won the match!')\n",
    "elif(user_choice=='Paper' and computer_choice=='Paper'):\n",
    "    print('Oops!Its a tie.')   \n",
    "elif(user_choice=='Paper' and computer_choice=='Scissor'):\n",
    "    print('Computer won the match!')\n",
    "elif(user_choice=='Scissor' and computer_choice=='Rock'):\n",
    "    print('Computer won the match!')    \n",
    "elif(user_choice=='Scissor' and computer_choice=='Paper'):\n",
    "    print('User won the match!')\n",
    "else:\n",
    "    print('Oops!There is a tie.')"
   ]
  },
  {
   "cell_type": "code",
   "execution_count": 2,
   "id": "8c39e1ae",
   "metadata": {},
   "outputs": [
    {
     "name": "stdout",
     "output_type": "stream",
     "text": [
      "'Rock'-'Paper'-'Scissor'\n",
      "Enter \"Rock\" or \"Paper\" or \"Scissor\":- Paper\n",
      "\n",
      "User choice= Paper\n",
      "Computer choice= Paper\n",
      "Oops!Its a tie.\n"
     ]
    }
   ],
   "source": [
    "import numpy as np\n",
    "print(\"'Rock'-'Paper'-'Scissor'\")\n",
    "user_choice=input('Enter \"Rock\" or \"Paper\" or \"Scissor\":- ')\n",
    "computer_choice=np.random.randint(3)\n",
    "if(computer_choice==0):\n",
    "    computer_choice='Rock'\n",
    "elif(computer_choice==1):\n",
    "    computer_choice='Paper'\n",
    "else:\n",
    "    computer_choce='Scissor'\n",
    "print()\n",
    "print(f'User choice= {user_choice}')\n",
    "print(f'Computer choice= {computer_choice}')\n",
    "if(user_choice==computer_choice):\n",
    "    print('Oops!Its a tie.')\n",
    "elif(user_choice=='Rock' and computer_choice=='Paper'):\n",
    "    print('Computer won the match!')\n",
    "elif(user_choice=='Rock' and computer_choice=='Scissor'):\n",
    "    print('User won the match!')\n",
    "elif(user_choice=='Paper' and computer_choice=='Rock'):\n",
    "    print('User won the match!')  \n",
    "elif(user_choice=='Paper' and computer_choice=='Scissor'):\n",
    "    print('Computer won the match!')\n",
    "elif(user_choice=='Scissor' and computer_choice=='Rock'):\n",
    "    print('Computer won the match!')    \n",
    "elif(user_choice=='Scissor' and computer_choice=='Paper'):\n",
    "    print('User won the match!')\n",
    "else:\n",
    "    print('User won the match!')"
   ]
  },
  {
   "cell_type": "code",
   "execution_count": 3,
   "id": "6e6c869a",
   "metadata": {},
   "outputs": [
    {
     "name": "stdout",
     "output_type": "stream",
     "text": [
      "'Rock'-'Paper'-'Scissor'\n",
      "Enter \"Rock\" or \"Paper\" or \"Scissor\":- Rock\n",
      "\n",
      "User choice= Rock\n",
      "Computer choice= Paper\n",
      "Computer won the match!\n",
      "\n",
      "Do you want to play again? \"Yes\" or \"No\":- No\n"
     ]
    }
   ],
   "source": [
    "import numpy as np\n",
    "playmore=1\n",
    "while(playmore):\n",
    "    print(\"'Rock'-'Paper'-'Scissor'\")\n",
    "    user_choice=input('Enter \"Rock\" or \"Paper\" or \"Scissor\":- ')\n",
    "    computer_choice=np.random.randint(3)\n",
    "    if(computer_choice==0):\n",
    "        computer_choice='Rock'\n",
    "    elif(computer_choice==1):\n",
    "        computer_choice='Paper'\n",
    "    else:\n",
    "        computer_choce='Scissor'\n",
    "    print()\n",
    "    print(f'User choice= {user_choice}')\n",
    "    print(f'Computer choice= {computer_choice}')\n",
    "    if(user_choice==computer_choice):\n",
    "        print('Oops!Its a tie.')\n",
    "    elif(user_choice=='Rock' and computer_choice=='Paper'):\n",
    "        print('Computer won the match!')\n",
    "    elif(user_choice=='Rock' and computer_choice=='Scissor'):\n",
    "        print('User won the match!')\n",
    "    elif(user_choice=='Paper' and computer_choice=='Rock'):\n",
    "        print('User won the match!')  \n",
    "    elif(user_choice=='Paper' and computer_choice=='Scissor'):\n",
    "        print('Computer won the match!')\n",
    "    elif(user_choice=='Scissor' and computer_choice=='Rock'):\n",
    "        print('Computer won the match!')    \n",
    "    elif(user_choice=='Scissor' and computer_choice=='Paper'):\n",
    "        print('User won the match!')\n",
    "    else:\n",
    "        print('User won the match!')\n",
    "    print()\n",
    "    replay_status=input('Do you want to play again? \"Yes\" or \"No\":- ')\n",
    "    if(replay_status=='No'):\n",
    "        playmore=0"
   ]
  },
  {
   "cell_type": "code",
   "execution_count": 4,
   "id": "41439691",
   "metadata": {},
   "outputs": [
    {
     "name": "stdout",
     "output_type": "stream",
     "text": [
      "'Rock'-'Paper'-'Scissor'\n",
      "Enter \"Rock\" or \"Paper\" or \"Scissor\":- Scissor\n",
      "\n",
      "User choice= Scissor\n",
      "Computer choice= Rock\n",
      "Computer won the match!\n",
      "\n",
      "Do you want to play again? \"Yes\" or \"No\":- Yes\n",
      "'Rock'-'Paper'-'Scissor'\n",
      "Enter \"Rock\" or \"Paper\" or \"Scissor\":- Paper\n",
      "\n",
      "User choice= Paper\n",
      "Computer choice= Paper\n",
      "Oops ! Its a tie.\n",
      "\n",
      "Do you want to play again? \"Yes\" or \"No\":- No\n",
      "\n",
      "Matches played=2\n",
      "Number of matches won by user=0\n",
      "Number of matches won by computer=1\n",
      "Number of matches tie=1\n"
     ]
    }
   ],
   "source": [
    "import numpy as np\n",
    "playmore=1\n",
    "matches_played=0\n",
    "user_win_count=0\n",
    "computer_win_count=0\n",
    "tie_count=0\n",
    "while(playmore):\n",
    "    print(\"'Rock'-'Paper'-'Scissor'\")\n",
    "    user_choice=input('Enter \"Rock\" or \"Paper\" or \"Scissor\":- ')\n",
    "    computer_choice=np.random.randint(3)\n",
    "    if(computer_choice==0):\n",
    "        computer_choice='Rock'\n",
    "    elif(computer_choice==1):\n",
    "        computer_choice='Paper'\n",
    "    else:\n",
    "        computer_choce='Scissor'\n",
    "    print()\n",
    "    print(f'User choice= {user_choice}')\n",
    "    print(f'Computer choice= {computer_choice}')\n",
    "    if(user_choice==computer_choice):\n",
    "        print('Oops ! Its a tie.')\n",
    "        tie_count+=1\n",
    "    elif(user_choice=='Rock' and computer_choice=='Paper'):\n",
    "        print('Computer won the match!')\n",
    "        computer_win_count+=1\n",
    "    elif(user_choice=='Rock' and computer_choice=='Scissor'):\n",
    "        print('User won the match!')\n",
    "        user_win_count+=1\n",
    "    elif(user_choice=='Paper' and computer_choice=='Rock'):\n",
    "        print('User won the match!')  \n",
    "        user_win_count+=1\n",
    "    elif(user_choice=='Paper' and computer_choice=='Scissor'):\n",
    "        print('Computer won the match!')\n",
    "        computer_win_count+=1\n",
    "    elif(user_choice=='Scissor' and computer_choice=='Rock'):\n",
    "        print('Computer won the match!') \n",
    "        computer_win_count+=1\n",
    "    elif(user_choice=='Scissor' and computer_choice=='Paper'):\n",
    "        print('User won the match!')\n",
    "        user_win_count+=1\n",
    "    else:\n",
    "        print('User won the match!')\n",
    "        user_win_count+=1\n",
    "    print()\n",
    "    matches_played+=1\n",
    "    replay_status=input('Do you want to play again? \"Yes\" or \"No\":- ')\n",
    "    if(replay_status=='No'):\n",
    "        playmore=0\n",
    "print()\n",
    "print(f'Matches played={matches_played}')\n",
    "print(f'Number of matches won by user={user_win_count}')\n",
    "print(f'Number of matches won by computer={computer_win_count}')\n",
    "print(f'Number of matches tie={tie_count}')"
   ]
  },
  {
   "cell_type": "code",
   "execution_count": null,
   "id": "980a7fac",
   "metadata": {},
   "outputs": [],
   "source": [
    "#check for valid user input"
   ]
  },
  {
   "cell_type": "code",
   "execution_count": null,
   "id": "c6c63c36",
   "metadata": {},
   "outputs": [],
   "source": []
  },
  {
   "cell_type": "code",
   "execution_count": null,
   "id": "0798499f",
   "metadata": {},
   "outputs": [],
   "source": []
  },
  {
   "cell_type": "code",
   "execution_count": null,
   "id": "1f4072be",
   "metadata": {},
   "outputs": [],
   "source": []
  },
  {
   "cell_type": "code",
   "execution_count": null,
   "id": "9e4af23e",
   "metadata": {},
   "outputs": [],
   "source": []
  },
  {
   "cell_type": "code",
   "execution_count": null,
   "id": "0ef5b201",
   "metadata": {},
   "outputs": [],
   "source": []
  },
  {
   "cell_type": "code",
   "execution_count": null,
   "id": "50cd3630",
   "metadata": {},
   "outputs": [],
   "source": []
  },
  {
   "cell_type": "code",
   "execution_count": null,
   "id": "d4e4a2b2",
   "metadata": {},
   "outputs": [],
   "source": []
  },
  {
   "cell_type": "code",
   "execution_count": null,
   "id": "62086a79",
   "metadata": {},
   "outputs": [],
   "source": []
  }
 ],
 "metadata": {
  "kernelspec": {
   "display_name": "Python 3 (ipykernel)",
   "language": "python",
   "name": "python3"
  },
  "language_info": {
   "codemirror_mode": {
    "name": "ipython",
    "version": 3
   },
   "file_extension": ".py",
   "mimetype": "text/x-python",
   "name": "python",
   "nbconvert_exporter": "python",
   "pygments_lexer": "ipython3",
   "version": "3.9.7"
  }
 },
 "nbformat": 4,
 "nbformat_minor": 5
}
